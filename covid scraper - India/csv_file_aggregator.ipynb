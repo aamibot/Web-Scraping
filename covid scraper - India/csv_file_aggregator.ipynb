{
 "cells": [
  {
   "cell_type": "code",
   "execution_count": 1,
   "metadata": {},
   "outputs": [],
   "source": [
    "from glob import glob\n",
    "import pandas as pd\n",
    "from datetime import date\n",
    "import re"
   ]
  },
  {
   "cell_type": "code",
   "execution_count": 2,
   "metadata": {},
   "outputs": [],
   "source": [
    "files_list= sorted(glob('scraped_files/2020*.csv'))"
   ]
  },
  {
   "cell_type": "code",
   "execution_count": 3,
   "metadata": {},
   "outputs": [],
   "source": [
    "raw_df = (pd.concat((pd.read_csv(file,parse_dates=True)\n",
    "                     .assign(filename=file) for file in files_list),ignore_index = True)\n",
    "                     .drop('filename',axis=1)\n",
    "                     .dropna(axis = 0, how ='any'))"
   ]
  },
  {
   "cell_type": "code",
   "execution_count": 4,
   "metadata": {},
   "outputs": [],
   "source": [
    "raw_df['Date'] = pd.to_datetime(raw_df['Date'])"
   ]
  },
  {
   "cell_type": "code",
   "execution_count": 5,
   "metadata": {},
   "outputs": [],
   "source": [
    "raw_df.sort_values(['Name of State / UT','Date'],axis= 0,ascending=True,\n",
    "                                                 inplace=True,ignore_index=True)"
   ]
  },
  {
   "cell_type": "code",
   "execution_count": 6,
   "metadata": {},
   "outputs": [],
   "source": [
    "raw_df.columns = ['Name_of_State/UT', 'Total_Confirmed_cases',\n",
    "                  'Cured/Discharged/Migrated', 'Death', 'Date']"
   ]
  },
  {
   "cell_type": "code",
   "execution_count": 7,
   "metadata": {},
   "outputs": [],
   "source": [
    "raw_df['Name_of_State/UT'] = raw_df['Name_of_State/UT'].apply(lambda x: re.sub('\\W','',x))"
   ]
  },
  {
   "cell_type": "code",
   "execution_count": 8,
   "metadata": {},
   "outputs": [],
   "source": [
    "indices_to_drop = raw_df[raw_df['Name_of_State/UT']=='Ladakh'].index #Dropping Ladakh since it is not dedected in tableau maps\n",
    "raw_df.drop(raw_df.index[indices_to_drop],axis='index',inplace=True)"
   ]
  },
  {
   "cell_type": "code",
   "execution_count": 9,
   "metadata": {},
   "outputs": [],
   "source": [
    "df = raw_df.copy()\n",
    "df.to_csv(f'./aggregate_files/{date.today().strftime(\"%d-%m-%Y\")}.csv',index=False,header=True)"
   ]
  }
 ],
 "metadata": {
  "kernelspec": {
   "display_name": "Python 3",
   "language": "python",
   "name": "python3"
  },
  "language_info": {
   "codemirror_mode": {
    "name": "ipython",
    "version": 3
   },
   "file_extension": ".py",
   "mimetype": "text/x-python",
   "name": "python",
   "nbconvert_exporter": "python",
   "pygments_lexer": "ipython3",
   "version": "3.7.6"
  }
 },
 "nbformat": 4,
 "nbformat_minor": 4
}
