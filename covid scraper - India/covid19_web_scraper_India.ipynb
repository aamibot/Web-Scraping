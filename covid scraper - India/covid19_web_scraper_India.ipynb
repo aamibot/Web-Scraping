{
 "cells": [
  {
   "cell_type": "code",
   "execution_count": null,
   "metadata": {},
   "outputs": [],
   "source": [
    "from bs4 import BeautifulSoup\n",
    "import requests\n",
    "from datetime import date\n",
    "import pandas as pd\n",
    "\n",
    "ind_url = \"https://www.mohfw.gov.in/\"\n",
    "\n",
    "try:\n",
    "    html = requests.get(ind_url).text\n",
    "except requests.exceptions.ConnectionError as e:\n",
    "    print (\"Error Connecting / Check Internet Connection\")\n",
    "    \n",
    "soup = BeautifulSoup(html,features=\"html.parser\")\n",
    "\n",
    "data = []\n",
    "table = soup.find('div',class_='data-table table-responsive')\n",
    "table_body = table.find('tbody')\n",
    "rows = table_body.find_all('tr')\n",
    "for row in rows:\n",
    "    cols = row.find_all('td')\n",
    "    cols = [ele.text.strip() for ele in cols]\n",
    "    data.append([ele for ele in cols if ele]) \n",
    "\n",
    "df = pd.DataFrame(data,columns=['SNo.', 'Name of State / UT', 'Total Confirmed cases *','Cured/Discharged/Migrated','Death']).drop(['SNo.'],axis=1)\n",
    "\n",
    "idx_to_drop = df[df['Name of State / UT'] == \"West Bengal\"].index[0]\n",
    "df = df.iloc[:idx_to_drop+1]\n",
    "df['Date'] = date.today()\n",
    "df.to_csv(f'{date.today()}.csv', index = False,header=True)"
   ]
  }
 ],
 "metadata": {
  "kernelspec": {
   "display_name": "Python 3",
   "language": "python",
   "name": "python3"
  },
  "language_info": {
   "codemirror_mode": {
    "name": "ipython",
    "version": 3
   },
   "file_extension": ".py",
   "mimetype": "text/x-python",
   "name": "python",
   "nbconvert_exporter": "python",
   "pygments_lexer": "ipython3",
   "version": "3.7.6"
  }
 },
 "nbformat": 4,
 "nbformat_minor": 4
}
